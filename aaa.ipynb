{
 "cells": [
  {
   "cell_type": "markdown",
   "metadata": {},
   "source": [
    "# Data augmentation for time-series data"
   ]
  },
  {
   "cell_type": "markdown",
   "metadata": {},
   "source": [
    "#### This is a simple example to apply data augmentation to time-series data (e.g. wearable sensor data). If it helps your research, please cite the below paper. "
   ]
  },
  {
   "cell_type": "markdown",
   "metadata": {},
   "source": [
    "T. T. Um et al., “Data augmentation of wearable sensor data for parkinson’s disease monitoring using convolutional neural networks,” in Proceedings of the 19th ACM International Conference on Multimodal Interaction, ser. ICMI 2017. New York, NY, USA: ACM, 2017, pp. 216–220. "
   ]
  },
  {
   "cell_type": "markdown",
   "metadata": {},
   "source": [
    "#### You can freely modify this code for your own purpose. However, please leave the above citation information untouched when you redistributed the code to others."
   ]
  },
  {
   "cell_type": "code",
   "execution_count": null,
   "metadata": {},
   "outputs": [],
   "source": []
  },
  {
   "cell_type": "code",
   "execution_count": null,
   "metadata": {},
   "outputs": [],
   "source": [
    "import numpy as np\n",
    "import matplotlib.pyplot as plt"
   ]
  },
  {
   "cell_type": "code",
   "execution_count": null,
   "metadata": {},
   "outputs": [],
   "source": [
    "from scipy.interpolate import CubicSpline      # for warping\n",
    "from transforms3d.axangles import axangle2mat  # for rotation"
   ]
  },
  {
   "cell_type": "code",
   "execution_count": null,
   "metadata": {},
   "outputs": [],
   "source": [
    "myX = np.load('X_sample.npy')\n",
    "print(myX.shape)  ## 3600 samples (Time) * 3 features (X,Y,Z)"
   ]
  },
  {
   "cell_type": "markdown",
   "metadata": {},
   "source": [
    "Make sure that your data are asssume to have (time*feat) dimension."
   ]
  },
  {
   "cell_type": "code",
   "execution_count": null,
   "metadata": {},
   "outputs": [],
   "source": [
    "plt.plot(myX)\n",
    "plt.title(\"An example of 1min acceleration data\")\n",
    "plt.axis([0,3600,-1.5,1.5])"
   ]
  },
  {
   "cell_type": "markdown",
   "metadata": {},
   "source": [
    "## 1. Jittering"
   ]
  },
  {
   "cell_type": "markdown",
   "metadata": {},
   "source": [
    "#### Hyperparameters :  sigma = standard devitation (STD) of the noise"
   ]
  },
  {
   "cell_type": "code",
   "execution_count": null,
   "metadata": {},
   "outputs": [],
   "source": [
    "sigma = 0.05"
   ]
  },
  {
   "cell_type": "code",
   "execution_count": null,
   "metadata": {},
   "outputs": [],
   "source": [
    "def DA_Jitter(X, sigma=0.05):\n",
    "    myNoise = np.random.normal(loc=0, scale=sigma, size=X.shape)\n",
    "    return X+myNoise"
   ]
  },
  {
   "cell_type": "code",
   "execution_count": null,
   "metadata": {
    "scrolled": true
   },
   "outputs": [],
   "source": [
    "fig = plt.figure(figsize=(15,4))\n",
    "for ii in range(8):\n",
    "    ax = fig.add_subplot(2,4,ii+1)\n",
    "    ax.plot(DA_Jitter(myX, sigma))\n",
    "    ax.set_xlim([0,3600])\n",
    "    ax.set_ylim([-1.5,1.5])"
   ]
  },
  {
   "cell_type": "code",
   "execution_count": null,
   "metadata": {},
   "outputs": [],
   "source": []
  },
  {
   "cell_type": "markdown",
   "metadata": {},
   "source": [
    "## 2. Scaling"
   ]
  },
  {
   "cell_type": "markdown",
   "metadata": {},
   "source": [
    "#### Hyperparameters :  sigma = STD of the zoom-in/out factor"
   ]
  },
  {
   "cell_type": "code",
   "execution_count": null,
   "metadata": {},
   "outputs": [],
   "source": [
    "sigma = 0.1"
   ]
  },
  {
   "cell_type": "code",
   "execution_count": null,
   "metadata": {},
   "outputs": [],
   "source": [
    "def DA_Scaling(X, sigma=0.1):\n",
    "    scalingFactor = np.random.normal(loc=1.0, scale=sigma, size=(1,X.shape[1])) # shape=(1,3)\n",
    "    myNoise = np.matmul(np.ones((X.shape[0],1)), scalingFactor)\n",
    "    return X*myNoise"
   ]
  },
  {
   "cell_type": "code",
   "execution_count": null,
   "metadata": {
    "scrolled": true
   },
   "outputs": [],
   "source": [
    "fig = plt.figure(figsize=(15,4))\n",
    "for ii in range(8):\n",
    "    ax = fig.add_subplot(2,4,ii+1)\n",
    "    ax.plot(DA_Scaling(myX, sigma))\n",
    "    ax.set_xlim([0,3600])\n",
    "    ax.set_ylim([-1.5,1.5])"
   ]
  },
  {
   "cell_type": "code",
   "execution_count": null,
   "metadata": {},
   "outputs": [],
   "source": []
  },
  {
   "cell_type": "markdown",
   "metadata": {},
   "source": [
    "## 3. Magnitude Warping"
   ]
  },
  {
   "cell_type": "markdown",
   "metadata": {},
   "source": [
    "#### Hyperparameters :  sigma = STD of the random knots for generating curves\n",
    "\n",
    "#### knot = # of knots for the random curves (complexity of the curves)"
   ]
  },
  {
   "cell_type": "markdown",
   "metadata": {},
   "source": [
    "\"Scaling\" can be considered as \"applying constant noise to the entire samples\" whereas \"Jittering\" can be considered as \"applying different noise to each sample\". "
   ]
  },
  {
   "cell_type": "markdown",
   "metadata": {},
   "source": [
    "\"Magnitude Warping\" can be considered as \"applying smoothly-varing noise to the entire samples\""
   ]
  },
  {
   "cell_type": "code",
   "execution_count": null,
   "metadata": {},
   "outputs": [],
   "source": [
    "sigma = 0.2\n",
    "knot = 4"
   ]
  },
  {
   "cell_type": "code",
   "execution_count": null,
   "metadata": {},
   "outputs": [],
   "source": [
    "## This example using cubic splice is not the best approach to generate random curves. \n",
    "## You can use other aprroaches, e.g., Gaussian process regression, Bezier curve, etc.\n",
    "def GenerateRandomCurves(X, sigma=0.2, knot=4):\n",
    "    xx = (np.ones((X.shape[1],1))*(np.arange(0,X.shape[0], (X.shape[0]-1)/(knot+1)))).transpose()\n",
    "    yy = np.random.normal(loc=1.0, scale=sigma, size=(knot+2, X.shape[1]))\n",
    "    x_range = np.arange(X.shape[0])\n",
    "    cs_x = CubicSpline(xx[:,0], yy[:,0])\n",
    "    cs_y = CubicSpline(xx[:,1], yy[:,1])\n",
    "    cs_z = CubicSpline(xx[:,2], yy[:,2])\n",
    "    return np.array([cs_x(x_range),cs_y(x_range),cs_z(x_range)]).transpose()"
   ]
  },
  {
   "cell_type": "code",
   "execution_count": null,
   "metadata": {},
   "outputs": [],
   "source": [
    "## Random curves around 1.0\n",
    "fig = plt.figure(figsize=(15,4))\n",
    "for ii in range(8):\n",
    "    ax = fig.add_subplot(2,4,ii+1)\n",
    "    ax.plot(GenerateRandomCurves(myX, sigma))\n",
    "    plt.axis([0,3600,-0.5,2])"
   ]
  },
  {
   "cell_type": "code",
   "execution_count": null,
   "metadata": {},
   "outputs": [],
   "source": [
    "def DA_MagWarp(X, sigma):\n",
    "    return X * GenerateRandomCurves(X, sigma)"
   ]
  },
  {
   "cell_type": "code",
   "execution_count": null,
   "metadata": {
    "scrolled": true
   },
   "outputs": [],
   "source": [
    "fig = plt.figure(figsize=(15,4))\n",
    "for ii in range(8):\n",
    "    ax = fig.add_subplot(2,4,ii+1)\n",
    "    ax.plot(DA_MagWarp(myX, sigma))\n",
    "    ax.set_xlim([0,3600])\n",
    "    ax.set_ylim([-1.5,1.5])"
   ]
  },
  {
   "cell_type": "code",
   "execution_count": null,
   "metadata": {},
   "outputs": [],
   "source": []
  },
  {
   "cell_type": "markdown",
   "metadata": {},
   "source": [
    "## 4. Time Warping"
   ]
  },
  {
   "cell_type": "markdown",
   "metadata": {},
   "source": [
    "#### Hyperparameters :  sigma = STD of the random knots for generating curves\n",
    "\n",
    "#### knot = # of knots for the random curves (complexity of the curves)"
   ]
  },
  {
   "cell_type": "code",
   "execution_count": null,
   "metadata": {},
   "outputs": [],
   "source": [
    "sigma = 0.2\n",
    "knot = 4"
   ]
  },
  {
   "cell_type": "code",
   "execution_count": null,
   "metadata": {},
   "outputs": [],
   "source": [
    "def DistortTimesteps(X, sigma=0.2):\n",
    "    tt = GenerateRandomCurves(X, sigma) # Regard these samples aroun 1 as time intervals\n",
    "    tt_cum = np.cumsum(tt, axis=0)        # Add intervals to make a cumulative graph\n",
    "    # Make the last value to have X.shape[0]\n",
    "    t_scale = [(X.shape[0]-1)/tt_cum[-1,0],(X.shape[0]-1)/tt_cum[-1,1],(X.shape[0]-1)/tt_cum[-1,2]]\n",
    "    tt_cum[:,0] = tt_cum[:,0]*t_scale[0]\n",
    "    tt_cum[:,1] = tt_cum[:,1]*t_scale[1]\n",
    "    tt_cum[:,2] = tt_cum[:,2]*t_scale[2]\n",
    "    return tt_cum"
   ]
  },
  {
   "cell_type": "code",
   "execution_count": null,
   "metadata": {},
   "outputs": [],
   "source": [
    "## Random curves around 1.0\n",
    "fig = plt.figure(figsize=(15,4))\n",
    "for ii in range(8):\n",
    "    ax = fig.add_subplot(2,4,ii+1)\n",
    "    ax.plot(DistortTimesteps(myX, sigma))\n",
    "    ax.set_xlim([0,3600])\n",
    "    ax.set_ylim([0,3600])"
   ]
  },
  {
   "cell_type": "code",
   "execution_count": null,
   "metadata": {},
   "outputs": [],
   "source": [
    "def DA_TimeWarp(X, sigma=0.2):\n",
    "    tt_new = DistortTimesteps(X, sigma)\n",
    "    X_new = np.zeros(X.shape)\n",
    "    x_range = np.arange(X.shape[0])\n",
    "    X_new[:,0] = np.interp(x_range, tt_new[:,0], X[:,0])\n",
    "    X_new[:,1] = np.interp(x_range, tt_new[:,1], X[:,1])\n",
    "    X_new[:,2] = np.interp(x_range, tt_new[:,2], X[:,2])\n",
    "    return X_new"
   ]
  },
  {
   "cell_type": "code",
   "execution_count": null,
   "metadata": {
    "scrolled": true
   },
   "outputs": [],
   "source": [
    "fig = plt.figure(figsize=(15,4))\n",
    "for ii in range(8):\n",
    "    ax = fig.add_subplot(2,4,ii+1)\n",
    "    ax.plot(DA_TimeWarp(myX, sigma))\n",
    "    ax.set_xlim([0,3600])\n",
    "    ax.set_ylim([-1.5,1.5])"
   ]
  },
  {
   "cell_type": "code",
   "execution_count": null,
   "metadata": {},
   "outputs": [],
   "source": []
  },
  {
   "cell_type": "markdown",
   "metadata": {},
   "source": [
    "## 5. Rotation"
   ]
  },
  {
   "cell_type": "markdown",
   "metadata": {},
   "source": [
    "#### Hyperparameters :  N/A"
   ]
  },
  {
   "cell_type": "code",
   "execution_count": null,
   "metadata": {},
   "outputs": [],
   "source": [
    "def DA_Rotation(X):\n",
    "    axis = np.random.uniform(low=-1, high=1, size=X.shape[1])\n",
    "    angle = np.random.uniform(low=-np.pi, high=np.pi)\n",
    "    return np.matmul(X , axangle2mat(axis,angle))"
   ]
  },
  {
   "cell_type": "code",
   "execution_count": null,
   "metadata": {},
   "outputs": [],
   "source": [
    "fig = plt.figure(figsize=(15,4))\n",
    "for ii in range(8):\n",
    "    ax = fig.add_subplot(2,4,ii+1)\n",
    "    ax.plot(DA_Rotation(myX))\n",
    "    ax.set_xlim([0,3600])\n",
    "    ax.set_ylim([-1.5,1.5])"
   ]
  },
  {
   "cell_type": "code",
   "execution_count": null,
   "metadata": {},
   "outputs": [],
   "source": []
  },
  {
   "cell_type": "markdown",
   "metadata": {},
   "source": [
    "## 6. Permutation"
   ]
  },
  {
   "cell_type": "markdown",
   "metadata": {},
   "source": [
    "#### Hyperparameters :  nPerm = # of segments to permute\n",
    "#### minSegLength = allowable minimum length for each segment"
   ]
  },
  {
   "cell_type": "code",
   "execution_count": null,
   "metadata": {},
   "outputs": [],
   "source": [
    "nPerm = 4\n",
    "minSegLength = 100"
   ]
  },
  {
   "cell_type": "code",
   "execution_count": null,
   "metadata": {},
   "outputs": [],
   "source": [
    "def DA_Permutation(X, nPerm=4, minSegLength=10):\n",
    "    X_new = np.zeros(X.shape)\n",
    "    idx = np.random.permutation(nPerm)\n",
    "    bWhile = True\n",
    "    while bWhile == True:\n",
    "        segs = np.zeros(nPerm+1, dtype=int)\n",
    "        segs[1:-1] = np.sort(np.random.randint(minSegLength, X.shape[0]-minSegLength, nPerm-1))\n",
    "        segs[-1] = X.shape[0]\n",
    "        if np.min(segs[1:]-segs[0:-1]) > minSegLength:\n",
    "            bWhile = False\n",
    "    pp = 0\n",
    "    for ii in range(nPerm):\n",
    "        x_temp = X[segs[idx[ii]]:segs[idx[ii]+1],:]\n",
    "        X_new[pp:pp+len(x_temp),:] = x_temp\n",
    "        pp += len(x_temp)\n",
    "    return(X_new)"
   ]
  },
  {
   "cell_type": "code",
   "execution_count": null,
   "metadata": {},
   "outputs": [],
   "source": [
    "fig = plt.figure(figsize=(15,4))\n",
    "for ii in range(8):\n",
    "    ax = fig.add_subplot(2,4,ii+1)\n",
    "    ax.plot(DA_Permutation(myX))\n",
    "    ax.set_xlim([0,3600])\n",
    "    ax.set_ylim([-1.5,1.5])"
   ]
  },
  {
   "cell_type": "code",
   "execution_count": null,
   "metadata": {},
   "outputs": [],
   "source": []
  },
  {
   "cell_type": "markdown",
   "metadata": {},
   "source": [
    "## 7. Random Sampling"
   ]
  },
  {
   "cell_type": "markdown",
   "metadata": {},
   "source": [
    "#### Hyperparameters :  nSample = # of subsamples (nSample <= X.shape[0])"
   ]
  },
  {
   "cell_type": "markdown",
   "metadata": {},
   "source": [
    "This approach is similar to TimeWarp, but will use only subsamples (not all samples) for interpolation. (Using TimeWarp is more recommended)"
   ]
  },
  {
   "cell_type": "code",
   "execution_count": null,
   "metadata": {},
   "outputs": [],
   "source": [
    "nSample = 1000"
   ]
  },
  {
   "cell_type": "code",
   "execution_count": null,
   "metadata": {},
   "outputs": [],
   "source": [
    "def RandSampleTimesteps(X, nSample=1000):\n",
    "    X_new = np.zeros(X.shape)\n",
    "    tt = np.zeros((nSample,X.shape[1]), dtype=int)\n",
    "    tt[1:-1,0] = np.sort(np.random.randint(1,X.shape[0]-1,nSample-2))\n",
    "    tt[1:-1,1] = np.sort(np.random.randint(1,X.shape[0]-1,nSample-2))\n",
    "    tt[1:-1,2] = np.sort(np.random.randint(1,X.shape[0]-1,nSample-2))\n",
    "    tt[-1,:] = X.shape[0]-1\n",
    "    return tt"
   ]
  },
  {
   "cell_type": "code",
   "execution_count": null,
   "metadata": {},
   "outputs": [],
   "source": [
    "def DA_RandSampling(X, nSample=1000):\n",
    "    tt = RandSampleTimesteps(X, nSample)\n",
    "    X_new = np.zeros(X.shape)\n",
    "    X_new[:,0] = np.interp(np.arange(X.shape[0]), tt[:,0], X[tt[:,0],0])\n",
    "    X_new[:,1] = np.interp(np.arange(X.shape[0]), tt[:,1], X[tt[:,1],1])\n",
    "    X_new[:,2] = np.interp(np.arange(X.shape[0]), tt[:,2], X[tt[:,2],2])\n",
    "    return X_new"
   ]
  },
  {
   "cell_type": "code",
   "execution_count": null,
   "metadata": {},
   "outputs": [],
   "source": [
    "fig = plt.figure(figsize=(15,4))\n",
    "for ii in range(8):\n",
    "    ax = fig.add_subplot(2,4,ii+1)\n",
    "    ax.plot(DA_RandSampling(myX))\n",
    "    ax.set_xlim([0,3600])\n",
    "    ax.set_ylim([-1.5,1.5])"
   ]
  },
  {
   "cell_type": "code",
   "execution_count": null,
   "metadata": {},
   "outputs": [],
   "source": []
  },
  {
   "cell_type": "markdown",
   "metadata": {},
   "source": [
    "## 8. Combinations"
   ]
  },
  {
   "cell_type": "markdown",
   "metadata": {},
   "source": [
    "You can combine any of the above data augmentation techiniques. For example, "
   ]
  },
  {
   "cell_type": "code",
   "execution_count": null,
   "metadata": {},
   "outputs": [],
   "source": [
    "## Rotation + Permutation\n",
    "fig = plt.figure(figsize=(15,4))\n",
    "for ii in range(8):\n",
    "    ax = fig.add_subplot(2,4,ii+1)\n",
    "    ax.plot(DA_Rotation(DA_Permutation(myX, nPerm=4)))\n",
    "    ax.set_xlim([0,3600])\n",
    "    ax.set_ylim([-1.5,1.5])"
   ]
  },
  {
   "cell_type": "code",
   "execution_count": null,
   "metadata": {},
   "outputs": [],
   "source": []
  }
 ],
 "metadata": {
  "kernelspec": {
   "display_name": "Python 3",
   "language": "python",
   "name": "python3"
  },
  "language_info": {
   "codemirror_mode": {
    "name": "ipython",
    "version": 3
   },
   "file_extension": ".py",
   "mimetype": "text/x-python",
   "name": "python",
   "nbconvert_exporter": "python",
   "pygments_lexer": "ipython3",
   "version": "3.5.2"
  }
 },
 "nbformat": 4,
 "nbformat_minor": 2
}
